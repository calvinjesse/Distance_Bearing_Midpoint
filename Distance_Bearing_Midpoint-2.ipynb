{
  "nbformat": 4,
  "nbformat_minor": 0,
  "metadata": {
    "colab": {
      "name": "Distance_Bearing_Midpoint.ipynb",
      "provenance": [],
      "collapsed_sections": []
    },
    "kernelspec": {
      "name": "python3",
      "display_name": "Python 3"
    },
    "language_info": {
      "name": "python"
    }
  },
  "cells": [
    {
      "cell_type": "code",
      "metadata": {
        "colab": {
          "base_uri": "https://localhost:8080/"
        },
        "id": "n0PPt1neQhe7",
        "outputId": "375e3368-0093-4aef-c489-5cf391017d0a"
      },
      "source": [
        "import math\n",
        "import numpy as np\n",
        "import time\n",
        "\n",
        "def main(lat1, lon1, lat2, lon2):\n",
        "  print(\"long-lat 1 : \",lat1,\",\",lon1)\n",
        "  print(\"long-lat 2 : \",lat2,\",\",lon2)\n",
        "  print(\"\\n\")\n",
        "  distance(lat1, lon1, lat2, lon2)\n",
        "  bearing(lat1, lon1, lat2, lon2)\n",
        "  midpoint(lat1, lon1, lat2, lon2)\n",
        "\n",
        "def distance(lat1, lon1, lat2, lon2):\n",
        "  r = 6371\n",
        "\n",
        "  lat_dis = ((lat2-lat1)/2)*np.pi/180\n",
        "  lon_dis = ((lon2-lon1)/2)*np.pi/180\n",
        "  lat1y = lat1*np.pi/180\n",
        "  lat2y = lat2*np.pi/180\n",
        "\n",
        "  sin_lat = (np.sin(lat_dis))**2\n",
        "  sin_lon = (np.sin(lon_dis))**2\n",
        "\n",
        "  root = np.sqrt(sin_lat + (np.cos(lat1y)*np.cos(lat2y)*sin_lon))\n",
        "\n",
        "  dis = 2*r*np.arcsin(root)\n",
        "\n",
        "  print(\"distance : \",dis,\"KM\")\n",
        "  \n",
        "def bearing(lat1, lon1, lat2, lon2):\n",
        "  lon1x = lon1*np.pi/180\n",
        "  lat1x = lat1*np.pi/180\n",
        "  lon2x = lon2*np.pi/180\n",
        "  lat2x = lat2*np.pi/180\n",
        "  lon_dif = lon2x-lon1x\n",
        "\n",
        "  y = np.sin(lon_dif)*np.cos(lat2x)\n",
        "  x = (np.cos(lat1x)*np.sin(lat2x))-(np.sin(lat1x)*np.cos(lat2x)*np.cos(lon_dif))\n",
        "\n",
        "  bear = math.atan2(y,x)\n",
        "  bear_deg = (math.degrees(bear))%180\n",
        "  print(\"bearing : \",bear_deg,\"degrees\")\n",
        "\n",
        "def midpoint(lat1, lon1, lat2, lon2):\n",
        "  lon1z = lon1*np.pi/180\n",
        "  lat1z = lat1*np.pi/180\n",
        "  lon2z = lon2*np.pi/180\n",
        "  lat2z = lat2*np.pi/180\n",
        "\n",
        "  \n",
        "  Bx = np.cos(lat2z)*np.cos(lat2z-lat1z)\n",
        "  By = np.cos(lat2z)*np.sin(lat2z-lat1z)\n",
        "  sqrt = np.sqrt((np.cos(lat1z)+Bx)**2+(By)**2)\n",
        "  lat_mid = math.atan2((np.sin(lat1z)+np.sin(lat2z)),sqrt)\n",
        "  lon_mid = lon1z + math.atan2(By,(np.cos(lat1)+Bx)) \n",
        "\n",
        "  print(\"midpoint : \",math.degrees(lat_mid),\",\",math.degrees(lon_mid))\n",
        "\n",
        "start_time = time.time()\n",
        "main(-6.226911159033516,106.83278809486478,-6.2417112557259,106.8366322700035)\n",
        "print(\"\\n--- %s seconds ---\" % (time.time() - start_time))"
      ],
      "execution_count": 13,
      "outputs": [
        {
          "output_type": "stream",
          "name": "stdout",
          "text": [
            "long-lat 1 :  -6.226911159033516 , 106.83278809486478\n",
            "long-lat 2 :  -6.2417112557259 , 106.8366322700035\n",
            "\n",
            "\n",
            "distance :  1.6996691926659118 KM\n",
            "bearing :  165.52243308222864 degrees\n",
            "midpoint :  -6.234311258967749 , 106.82540418354338\n",
            "\n",
            "--- 0.004820823669433594 seconds ---\n"
          ]
        }
      ]
    }
  ]
}